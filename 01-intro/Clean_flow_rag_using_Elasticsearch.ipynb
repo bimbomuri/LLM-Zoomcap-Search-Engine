{
 "cells": [
  {
   "cell_type": "code",
   "execution_count": 1,
   "id": "920beb1d-02ca-469c-95df-51d124506ea8",
   "metadata": {},
   "outputs": [],
   "source": [
    "import minsearch\n",
    "import json"
   ]
  },
  {
   "cell_type": "code",
   "execution_count": 2,
   "id": "74a064fb-0522-4a11-a439-a5f6aadb72d9",
   "metadata": {},
   "outputs": [],
   "source": [
    "with open('documents.json', 'rt') as data_file:\n",
    "    docs_raw = json.load(data_file)"
   ]
  },
  {
   "cell_type": "code",
   "execution_count": 3,
   "id": "0f7615c9-624f-4852-bf91-96da924fd3dd",
   "metadata": {},
   "outputs": [],
   "source": [
    "documents = []\n",
    "for course_dict in docs_raw:\n",
    "    for doc in course_dict['documents']:\n",
    "        doc['course'] = course_dict['course']\n",
    "        documents.append(doc)"
   ]
  },
  {
   "cell_type": "code",
   "execution_count": 4,
   "id": "ce23e21e-02df-4382-a64b-7768437aac3e",
   "metadata": {},
   "outputs": [
    {
     "data": {
      "text/plain": [
       "{'text': \"The purpose of this document is to capture frequently asked technical questions\\nThe exact day and hour of the course will be 15th Jan 2024 at 17h00. The course will start with the first  “Office Hours'' live.1\\nSubscribe to course public Google Calendar (it works from Desktop only).\\nRegister before the course starts using this link.\\nJoin the course Telegram channel with announcements.\\nDon’t forget to register in DataTalks.Club's Slack and join the channel.\",\n",
       " 'section': 'General course-related questions',\n",
       " 'question': 'Course - When will the course start?',\n",
       " 'course': 'data-engineering-zoomcamp'}"
      ]
     },
     "execution_count": 4,
     "metadata": {},
     "output_type": "execute_result"
    }
   ],
   "source": [
    "documents[0]"
   ]
  },
  {
   "cell_type": "code",
   "execution_count": 5,
   "id": "c858bbb7-d68c-46ae-a74a-4b0411642bcd",
   "metadata": {},
   "outputs": [],
   "source": [
    "index = minsearch.Index(text_fields=['question',\"text\", \"section\"], \n",
    "               keyword_fields=[\"course\"])"
   ]
  },
  {
   "cell_type": "code",
   "execution_count": 6,
   "id": "ebfabc1d-1463-434f-9b47-be9d81798bc2",
   "metadata": {},
   "outputs": [
    {
     "data": {
      "text/plain": [
       "<minsearch.Index at 0x7fa0b6c0f2e0>"
      ]
     },
     "execution_count": 6,
     "metadata": {},
     "output_type": "execute_result"
    }
   ],
   "source": [
    "index.fit(documents)"
   ]
  },
  {
   "cell_type": "code",
   "execution_count": 7,
   "id": "b8f558e5-c627-4a29-ade3-9bf1a5e2acdf",
   "metadata": {},
   "outputs": [],
   "source": [
    "q = 'The course has started, can i still enroll?'"
   ]
  },
  {
   "cell_type": "code",
   "execution_count": 8,
   "id": "44fb7dd8-746b-490a-ac17-e9b497c5fdc1",
   "metadata": {},
   "outputs": [],
   "source": [
    "boost ={'question':3.0,'section':0.5}\n",
    "\n",
    "results = index.search(\n",
    "    query = q,\n",
    "    filter_dict={'course':'data-engineering-zoomcamp'},\n",
    "    boost_dict=boost, num_results=5\n",
    "    \n",
    ")"
   ]
  },
  {
   "cell_type": "code",
   "execution_count": 9,
   "id": "742bc9f0-e46a-4e76-b5c8-7bf765d6ece9",
   "metadata": {},
   "outputs": [
    {
     "data": {
      "text/plain": [
       "[{'text': \"Yes, even if you don't register, you're still eligible to submit the homeworks.\\nBe aware, however, that there will be deadlines for turning in the final projects. So don't leave everything for the last minute.\",\n",
       "  'section': 'General course-related questions',\n",
       "  'question': 'Course - Can I still join the course after the start date?',\n",
       "  'course': 'data-engineering-zoomcamp'},\n",
       " {'text': 'Yes, we will keep all the materials after the course finishes, so you can follow the course at your own pace after it finishes.\\nYou can also continue looking at the homeworks and continue preparing for the next cohort. I guess you can also start working on your final capstone project.',\n",
       "  'section': 'General course-related questions',\n",
       "  'question': 'Course - Can I follow the course after it finishes?',\n",
       "  'course': 'data-engineering-zoomcamp'},\n",
       " {'text': \"The purpose of this document is to capture frequently asked technical questions\\nThe exact day and hour of the course will be 15th Jan 2024 at 17h00. The course will start with the first  “Office Hours'' live.1\\nSubscribe to course public Google Calendar (it works from Desktop only).\\nRegister before the course starts using this link.\\nJoin the course Telegram channel with announcements.\\nDon’t forget to register in DataTalks.Club's Slack and join the channel.\",\n",
       "  'section': 'General course-related questions',\n",
       "  'question': 'Course - When will the course start?',\n",
       "  'course': 'data-engineering-zoomcamp'},\n",
       " {'text': 'You can start by installing and setting up all the dependencies and requirements:\\nGoogle cloud account\\nGoogle Cloud SDK\\nPython 3 (installed with Anaconda)\\nTerraform\\nGit\\nLook over the prerequisites and syllabus to see if you are comfortable with these subjects.',\n",
       "  'section': 'General course-related questions',\n",
       "  'question': 'Course - What can I do before the course starts?',\n",
       "  'course': 'data-engineering-zoomcamp'},\n",
       " {'text': 'Star the repo! Share it with friends if you find it useful ❣️\\nCreate a PR if you see you can improve the text or the structure of the repository.',\n",
       "  'section': 'General course-related questions',\n",
       "  'question': 'How can we contribute to the course?',\n",
       "  'course': 'data-engineering-zoomcamp'}]"
      ]
     },
     "execution_count": 9,
     "metadata": {},
     "output_type": "execute_result"
    }
   ],
   "source": [
    "results"
   ]
  },
  {
   "cell_type": "code",
   "execution_count": 10,
   "id": "4f93da14-1acb-4057-8b2f-e2ba6efb8bc1",
   "metadata": {},
   "outputs": [],
   "source": [
    "from openai import OpenAI"
   ]
  },
  {
   "cell_type": "code",
   "execution_count": 11,
   "id": "9663671f-15f7-4a97-8372-cdabce94d34f",
   "metadata": {},
   "outputs": [],
   "source": [
    "client = OpenAI()"
   ]
  },
  {
   "cell_type": "code",
   "execution_count": 12,
   "id": "c12e9e26-8997-4f53-a621-a24f03433225",
   "metadata": {},
   "outputs": [],
   "source": [
    "response = client.chat.completions.create(model ='gpt-4o', messages =[{\"role\":\"user\", \"content\":q}])"
   ]
  },
  {
   "cell_type": "code",
   "execution_count": 13,
   "id": "51f4d915-8569-4998-af02-f7376df04ccf",
   "metadata": {},
   "outputs": [
    {
     "data": {
      "text/plain": [
       "\"The ability to enroll in a course after it has started generally depends on the policies of the institution offering the course. Here are a few steps you can take to find out if it's still possible:\\n\\n1. **Check the Course Website or Catalog:** Look for any specific deadlines or late registration policies.\\n\\n2. **Contact the Instructor:** Sometimes, instructors have the discretion to allow late enrollments and can provide you with the necessary guidance or permissions.\\n\\n3. **Contact the Registrar's Office or Academic Advisor:** They can give you detailed information about enrollment policies and help you navigate any necessary procedures.\\n\\n4. **Review Institutional Policies:** Some institutions have a grace period for adding or dropping courses with minimal penalties.\\n\\n5. **Consider Auditing:** If enrollment is closed, ask if you can audit the course, which means you can attend and participate without receiving a grade or formal credit.\\n\\nMake sure to act quickly, as the longer you wait, the harder it might be to catch up on missed material.\""
      ]
     },
     "execution_count": 13,
     "metadata": {},
     "output_type": "execute_result"
    }
   ],
   "source": [
    "response.choices[0].message.content"
   ]
  },
  {
   "cell_type": "code",
   "execution_count": 14,
   "id": "f723c4c7-717f-4675-8010-4b59d78b2173",
   "metadata": {},
   "outputs": [],
   "source": [
    "def search(query):\n",
    "    boost ={'question':3.0,'section':0.5}\n",
    "\n",
    "    results = index.search(\n",
    "        query = query,\n",
    "        filter_dict={'course':'data-engineering-zoomcamp'},\n",
    "        boost_dict=boost, num_results=5\n",
    "        \n",
    "    )\n",
    "    return results"
   ]
  },
  {
   "cell_type": "code",
   "execution_count": 15,
   "id": "a257b294-862e-4cb6-a5da-7e07a011cc31",
   "metadata": {},
   "outputs": [],
   "source": [
    "def build_prompt(query,search_results):\n",
    "    prompt_template = \"\"\"\n",
    "    You're a course teaching assistant. Answer the QUESTION based on the CONTEXT form the FAQ database.\n",
    "    Use only the facts from the CONTEXT when answering the QUESTION.\n",
    "  \n",
    "    \n",
    "    QUESTION:{question}\n",
    "    \n",
    "    CONTEXT:\n",
    "    {context}\n",
    "    \"\"\".strip()\n",
    "    \n",
    "    context = \"\"\n",
    "    \n",
    "    for doc in search_results:\n",
    "        context = context + f\"section:{doc['section']}\\nquestion: {doc['question']}\\nanswer: {doc['text']}\\n\\n\"\n",
    "    prompt=prompt_template.format(question=query, context=context).strip()\n",
    "    return prompt"
   ]
  },
  {
   "cell_type": "code",
   "execution_count": 16,
   "id": "8db5fa40-64fd-4aad-98cc-3d5795c9f04b",
   "metadata": {},
   "outputs": [],
   "source": [
    "def llm(prompt):\n",
    "    response = client.chat.completions.create(model ='gpt-4o', messages =[{\"role\":\"user\", \"content\":prompt}])\n",
    "    return response.choices[0].message.content\n",
    "    "
   ]
  },
  {
   "cell_type": "code",
   "execution_count": 17,
   "id": "4b64f025-00ca-42bd-83ca-6323ef9908c5",
   "metadata": {},
   "outputs": [],
   "source": [
    "query = 'how do I run kafka?'\n",
    "\n",
    "def rag(query):\n",
    "    results = search(query)\n",
    "    prompt = build_prompt(query,results)\n",
    "    answer = llm(prompt)\n",
    "    return answer"
   ]
  },
  {
   "cell_type": "code",
   "execution_count": 18,
   "id": "95fa12d4-ad23-45cf-affd-51debc556032",
   "metadata": {},
   "outputs": [
    {
     "data": {
      "text/plain": [
       "'To run Kafka in your environment, you can follow these steps based on the nature of your project:\\n\\n1. **Java Kafka Producer/Consumer/KStreams**:\\n   - In the project directory, you can run the following command to start a producer, consumer, or KStreams:\\n     ```sh\\n     java -cp build/libs/<jar_name>-1.0-SNAPSHOT.jar:out src/main/java/org/example/JsonProducer.java\\n     ```\\n\\n2. **Python Kafka**:\\n   - If you encounter a \"Module ‘kafka’ not found\" error while trying to run `producer.py`, you should create a virtual environment first and install the required packages:\\n     ```sh\\n     python -m venv env\\n     source env/bin/activate\\n     pip install -r ../requirements.txt\\n     ```\\n   - To activate the virtual environment each time you need it, use:\\n     ```sh\\n     source env/bin/activate\\n     ```\\n   - To deactivate the virtual environment, use:\\n     ```sh\\n     deactivate\\n     ```\\n   - Note: For Windows, to activate the virtual environment, you should use:\\n     ```sh\\n     env\\\\Scripts\\\\activate\\n     ```\\n\\nBy following these steps, you should be able to run Kafka effectively in your respective Java or Python projects.'"
      ]
     },
     "execution_count": 18,
     "metadata": {},
     "output_type": "execute_result"
    }
   ],
   "source": [
    "rag(query)"
   ]
  },
  {
   "cell_type": "code",
   "execution_count": 19,
   "id": "761459f3-38d5-4d7d-883f-22507c8bf711",
   "metadata": {},
   "outputs": [
    {
     "data": {
      "text/plain": [
       "{'text': \"The purpose of this document is to capture frequently asked technical questions\\nThe exact day and hour of the course will be 15th Jan 2024 at 17h00. The course will start with the first  “Office Hours'' live.1\\nSubscribe to course public Google Calendar (it works from Desktop only).\\nRegister before the course starts using this link.\\nJoin the course Telegram channel with announcements.\\nDon’t forget to register in DataTalks.Club's Slack and join the channel.\",\n",
       " 'section': 'General course-related questions',\n",
       " 'question': 'Course - When will the course start?',\n",
       " 'course': 'data-engineering-zoomcamp'}"
      ]
     },
     "execution_count": 19,
     "metadata": {},
     "output_type": "execute_result"
    }
   ],
   "source": [
    "documents[0]"
   ]
  },
  {
   "cell_type": "code",
   "execution_count": 20,
   "id": "b6372609-28ad-454e-accc-5c9df204a11b",
   "metadata": {},
   "outputs": [],
   "source": [
    "from elasticsearch import Elasticsearch "
   ]
  },
  {
   "cell_type": "code",
   "execution_count": 21,
   "id": "99a93c01-dc8e-4d43-8f95-0cc94d721111",
   "metadata": {},
   "outputs": [],
   "source": [
    "es_client = Elasticsearch('http://localhost:9200')"
   ]
  },
  {
   "cell_type": "code",
   "execution_count": 23,
   "id": "82bdb14f-1943-428e-ab13-16ca2b310293",
   "metadata": {},
   "outputs": [
    {
     "data": {
      "text/plain": [
       "ObjectApiResponse({'name': '9fc0d736f48c', 'cluster_name': 'docker-cluster', 'cluster_uuid': 'QJo2Y0GwTdS1FAvmSKAyMA', 'version': {'number': '8.4.3', 'build_flavor': 'default', 'build_type': 'docker', 'build_hash': '42f05b9372a9a4a470db3b52817899b99a76ee73', 'build_date': '2022-10-04T07:17:24.662462378Z', 'build_snapshot': False, 'lucene_version': '9.3.0', 'minimum_wire_compatibility_version': '7.17.0', 'minimum_index_compatibility_version': '7.0.0'}, 'tagline': 'You Know, for Search'})"
      ]
     },
     "execution_count": 23,
     "metadata": {},
     "output_type": "execute_result"
    }
   ],
   "source": [
    "es_client.info()"
   ]
  },
  {
   "cell_type": "code",
   "execution_count": 25,
   "id": "50f0734d-f222-4ed2-8226-459a560c3b1b",
   "metadata": {},
   "outputs": [
    {
     "data": {
      "text/plain": [
       "ObjectApiResponse({'acknowledged': True, 'shards_acknowledged': True, 'index': 'course-questions'})"
      ]
     },
     "execution_count": 25,
     "metadata": {},
     "output_type": "execute_result"
    }
   ],
   "source": [
    "index_settings= {\n",
    "    \"settings\": {\n",
    "        \"number_of_shards\": 1,\n",
    "        \"number_of_replicas\": 0\n",
    "    },\n",
    "    \"mappings\": {\n",
    "        \"properties\": {\n",
    "            \"text\": {\"type\": \"text\"},\n",
    "            \"section\": {\"type\": \"text\"},\n",
    "            \"question\": {\"type\": \"text\"},\n",
    "            \"course\": {\"type\": \"keyword\"} \n",
    "        }\n",
    "    }\n",
    "}\n",
    "\n",
    "index_name = \"course-questions\"\n",
    "\n",
    "es_client.indices.create(index=index_name, body=index_settings)"
   ]
  },
  {
   "cell_type": "code",
   "execution_count": 27,
   "id": "ffd8f145-e255-4edf-8836-d2babf1fcbd9",
   "metadata": {},
   "outputs": [],
   "source": [
    "from tqdm.auto import tqdm"
   ]
  },
  {
   "cell_type": "code",
   "execution_count": 30,
   "id": "55a438eb-8056-4157-894d-f3e87f432c7c",
   "metadata": {},
   "outputs": [
    {
     "name": "stderr",
     "output_type": "stream",
     "text": [
      "100%|███████████████████████████████████████████████| 948/948 [00:20<00:00, 45.80it/s]\n"
     ]
    }
   ],
   "source": [
    "for doc in tqdm(documents):\n",
    "    es_client.index(index=index_name, document=doc)"
   ]
  },
  {
   "cell_type": "code",
   "execution_count": 31,
   "id": "9525c34e-2061-4cbd-90cf-7ee798dd29a3",
   "metadata": {},
   "outputs": [],
   "source": [
    "query = 'I just discovered the course, can I still join it?'"
   ]
  },
  {
   "cell_type": "code",
   "execution_count": 39,
   "id": "c6ec5925-4f7b-48d3-831d-c956c5a6036f",
   "metadata": {},
   "outputs": [],
   "source": [
    "def search_elastic(query):\n",
    "    search_query = {\n",
    "        \"size\": 5,\n",
    "        \"query\": {\n",
    "            \"bool\": {\n",
    "                \"must\": {\n",
    "                    \"multi_match\": {\n",
    "                        \"query\": query,\n",
    "                        \"fields\": [\"question^3\", \"text\", \"section\"],\n",
    "                        \"type\": \"best_fields\"\n",
    "                    }\n",
    "                },\n",
    "                \"filter\": {\n",
    "                    \"term\": {\n",
    "                        \"course\": \"data-engineering-zoomcamp\"\n",
    "                    }\n",
    "                }\n",
    "            }\n",
    "        }\n",
    "    }\n",
    "    response = es_client.search(index=index_name, body=search_query)\n",
    "    result_docs=[]\n",
    "    \n",
    "    for hit in response['hits']['hits']:\n",
    "        result_docs.append(hit['_source'])\n",
    "    return result_docs"
   ]
  },
  {
   "cell_type": "code",
   "execution_count": 41,
   "id": "05afd725-cd5b-447d-9805-e3ced8ec07ed",
   "metadata": {},
   "outputs": [],
   "source": [
    "def rag(query):\n",
    "    results = search_elastic(query)\n",
    "    prompt = build_prompt(query,results)\n",
    "    answer = llm(prompt)\n",
    "    return answer"
   ]
  },
  {
   "cell_type": "code",
   "execution_count": null,
   "id": "44bb80fb-802f-43a4-b1a0-74ce682ea4e2",
   "metadata": {},
   "outputs": [],
   "source": []
  }
 ],
 "metadata": {
  "kernelspec": {
   "display_name": "Python 3 (ipykernel)",
   "language": "python",
   "name": "python3"
  },
  "language_info": {
   "codemirror_mode": {
    "name": "ipython",
    "version": 3
   },
   "file_extension": ".py",
   "mimetype": "text/x-python",
   "name": "python",
   "nbconvert_exporter": "python",
   "pygments_lexer": "ipython3",
   "version": "3.10.13"
  }
 },
 "nbformat": 4,
 "nbformat_minor": 5
}
