{
 "cells": [
  {
   "cell_type": "code",
   "execution_count": 1,
   "id": "b6799113-d727-4473-9e25-f575d303abfb",
   "metadata": {},
   "outputs": [],
   "source": [
    "import openai\n",
    "import os\n",
    "from openai import OpenAI"
   ]
  },
  {
   "cell_type": "code",
   "execution_count": 3,
   "id": "ac4f77b7-eec4-404f-a891-bbcb7d7d59b1",
   "metadata": {},
   "outputs": [],
   "source": [
    "client = OpenAI()"
   ]
  },
  {
   "cell_type": "code",
   "execution_count": 4,
   "id": "bef2b479-6190-4805-ba2a-d290973a8e4d",
   "metadata": {},
   "outputs": [],
   "source": [
    "response = client.chat.completions.create(model='gpt-4o',\n",
    "                               messages=[{\"role\":\"user\",\"content\": \"is it too late to join the course?\"}])"
   ]
  },
  {
   "cell_type": "code",
   "execution_count": 7,
   "id": "5474eff6-6436-4acd-a0a6-47908adcce26",
   "metadata": {},
   "outputs": [
    {
     "data": {
      "text/plain": [
       "\"It's hard to say definitively without more context, but several factors typically influence whether it's too late to join a course, including:\\n\\n1. **Course Start Date:** If the course has only recently started, there may still be time to catch up on missed material.\\n2. **Enrollment Deadlines:** Many institutions have specific deadlines after which new students cannot join a course.\\n3. **Course Format:** Online courses often offer more flexibility in terms of start dates compared to in-person classes.\\n4. **Instructor Policies:** Some instructors may allow late additions if you communicate your interest and explain your circumstances.\\n5. **Self-Paced vs. Scheduled:** Self-paced courses may allow you to start at any time, while scheduled courses have specific timelines to follow.\\n\\nIf you provide more details about the course and its timing, I can offer more targeted advice. In any case, it’s always a good idea to reach out directly to the course instructor or the institution offering the course to inquire about your options.\""
      ]
     },
     "execution_count": 7,
     "metadata": {},
     "output_type": "execute_result"
    }
   ],
   "source": [
    "response.choices[0].message.content"
   ]
  },
  {
   "cell_type": "code",
   "execution_count": null,
   "id": "68691556-b88c-44e8-b1cb-4519f9665168",
   "metadata": {},
   "outputs": [],
   "source": []
  }
 ],
 "metadata": {
  "kernelspec": {
   "display_name": "Python 3 (ipykernel)",
   "language": "python",
   "name": "python3"
  },
  "language_info": {
   "codemirror_mode": {
    "name": "ipython",
    "version": 3
   },
   "file_extension": ".py",
   "mimetype": "text/x-python",
   "name": "python",
   "nbconvert_exporter": "python",
   "pygments_lexer": "ipython3",
   "version": "3.10.13"
  }
 },
 "nbformat": 4,
 "nbformat_minor": 5
}
