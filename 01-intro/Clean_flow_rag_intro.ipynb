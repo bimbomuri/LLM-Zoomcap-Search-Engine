{
 "cells": [
  {
   "cell_type": "code",
   "execution_count": 11,
   "id": "920beb1d-02ca-469c-95df-51d124506ea8",
   "metadata": {},
   "outputs": [],
   "source": [
    "import minsearch\n",
    "import json"
   ]
  },
  {
   "cell_type": "code",
   "execution_count": 12,
   "id": "74a064fb-0522-4a11-a439-a5f6aadb72d9",
   "metadata": {},
   "outputs": [],
   "source": [
    "with open('documents.json', 'rt') as data_file:\n",
    "    docs_raw = json.load(data_file)"
   ]
  },
  {
   "cell_type": "code",
   "execution_count": 13,
   "id": "0f7615c9-624f-4852-bf91-96da924fd3dd",
   "metadata": {},
   "outputs": [],
   "source": [
    "documents = []\n",
    "for course_dict in docs_raw:\n",
    "    for doc in course_dict['documents']:\n",
    "        doc['course'] = course_dict['course']\n",
    "        documents.append(doc)"
   ]
  },
  {
   "cell_type": "code",
   "execution_count": 14,
   "id": "ce23e21e-02df-4382-a64b-7768437aac3e",
   "metadata": {},
   "outputs": [
    {
     "data": {
      "text/plain": [
       "{'text': \"The purpose of this document is to capture frequently asked technical questions\\nThe exact day and hour of the course will be 15th Jan 2024 at 17h00. The course will start with the first  “Office Hours'' live.1\\nSubscribe to course public Google Calendar (it works from Desktop only).\\nRegister before the course starts using this link.\\nJoin the course Telegram channel with announcements.\\nDon’t forget to register in DataTalks.Club's Slack and join the channel.\",\n",
       " 'section': 'General course-related questions',\n",
       " 'question': 'Course - When will the course start?',\n",
       " 'course': 'data-engineering-zoomcamp'}"
      ]
     },
     "execution_count": 14,
     "metadata": {},
     "output_type": "execute_result"
    }
   ],
   "source": [
    "documents[0]"
   ]
  },
  {
   "cell_type": "code",
   "execution_count": 15,
   "id": "c858bbb7-d68c-46ae-a74a-4b0411642bcd",
   "metadata": {},
   "outputs": [],
   "source": [
    "index = minsearch.Index(text_fields=['question',\"text\", \"section\"], \n",
    "               keyword_fields=[\"course\"])"
   ]
  },
  {
   "cell_type": "code",
   "execution_count": 16,
   "id": "ebfabc1d-1463-434f-9b47-be9d81798bc2",
   "metadata": {},
   "outputs": [
    {
     "data": {
      "text/plain": [
       "<minsearch.Index at 0x774e9050b070>"
      ]
     },
     "execution_count": 16,
     "metadata": {},
     "output_type": "execute_result"
    }
   ],
   "source": [
    "index.fit(documents)"
   ]
  },
  {
   "cell_type": "code",
   "execution_count": 17,
   "id": "b8f558e5-c627-4a29-ade3-9bf1a5e2acdf",
   "metadata": {},
   "outputs": [],
   "source": [
    "q = 'The course has started, can i still enroll?'"
   ]
  },
  {
   "cell_type": "code",
   "execution_count": 18,
   "id": "44fb7dd8-746b-490a-ac17-e9b497c5fdc1",
   "metadata": {},
   "outputs": [],
   "source": [
    "boost ={'question':3.0,'section':0.5}\n",
    "\n",
    "results = index.search(\n",
    "    query = q,\n",
    "    filter_dict={'course':'data-engineering-zoomcamp'},\n",
    "    boost_dict=boost, num_results=5\n",
    "    \n",
    ")"
   ]
  },
  {
   "cell_type": "code",
   "execution_count": 19,
   "id": "742bc9f0-e46a-4e76-b5c8-7bf765d6ece9",
   "metadata": {},
   "outputs": [
    {
     "data": {
      "text/plain": [
       "[{'text': \"Yes, even if you don't register, you're still eligible to submit the homeworks.\\nBe aware, however, that there will be deadlines for turning in the final projects. So don't leave everything for the last minute.\",\n",
       "  'section': 'General course-related questions',\n",
       "  'question': 'Course - Can I still join the course after the start date?',\n",
       "  'course': 'data-engineering-zoomcamp'},\n",
       " {'text': 'Yes, we will keep all the materials after the course finishes, so you can follow the course at your own pace after it finishes.\\nYou can also continue looking at the homeworks and continue preparing for the next cohort. I guess you can also start working on your final capstone project.',\n",
       "  'section': 'General course-related questions',\n",
       "  'question': 'Course - Can I follow the course after it finishes?',\n",
       "  'course': 'data-engineering-zoomcamp'},\n",
       " {'text': \"The purpose of this document is to capture frequently asked technical questions\\nThe exact day and hour of the course will be 15th Jan 2024 at 17h00. The course will start with the first  “Office Hours'' live.1\\nSubscribe to course public Google Calendar (it works from Desktop only).\\nRegister before the course starts using this link.\\nJoin the course Telegram channel with announcements.\\nDon’t forget to register in DataTalks.Club's Slack and join the channel.\",\n",
       "  'section': 'General course-related questions',\n",
       "  'question': 'Course - When will the course start?',\n",
       "  'course': 'data-engineering-zoomcamp'},\n",
       " {'text': 'You can start by installing and setting up all the dependencies and requirements:\\nGoogle cloud account\\nGoogle Cloud SDK\\nPython 3 (installed with Anaconda)\\nTerraform\\nGit\\nLook over the prerequisites and syllabus to see if you are comfortable with these subjects.',\n",
       "  'section': 'General course-related questions',\n",
       "  'question': 'Course - What can I do before the course starts?',\n",
       "  'course': 'data-engineering-zoomcamp'},\n",
       " {'text': 'Star the repo! Share it with friends if you find it useful ❣️\\nCreate a PR if you see you can improve the text or the structure of the repository.',\n",
       "  'section': 'General course-related questions',\n",
       "  'question': 'How can we contribute to the course?',\n",
       "  'course': 'data-engineering-zoomcamp'}]"
      ]
     },
     "execution_count": 19,
     "metadata": {},
     "output_type": "execute_result"
    }
   ],
   "source": [
    "results"
   ]
  },
  {
   "cell_type": "code",
   "execution_count": 20,
   "id": "4f93da14-1acb-4057-8b2f-e2ba6efb8bc1",
   "metadata": {},
   "outputs": [],
   "source": [
    "from openai import OpenAI"
   ]
  },
  {
   "cell_type": "code",
   "execution_count": 21,
   "id": "9663671f-15f7-4a97-8372-cdabce94d34f",
   "metadata": {},
   "outputs": [],
   "source": [
    "client = OpenAI()"
   ]
  },
  {
   "cell_type": "code",
   "execution_count": 22,
   "id": "c12e9e26-8997-4f53-a621-a24f03433225",
   "metadata": {},
   "outputs": [],
   "source": [
    "response = client.chat.completions.create(model ='gpt-4o', messages =[{\"role\":\"user\", \"content\":q}])"
   ]
  },
  {
   "cell_type": "code",
   "execution_count": 23,
   "id": "51f4d915-8569-4998-af02-f7376df04ccf",
   "metadata": {},
   "outputs": [
    {
     "data": {
      "text/plain": [
       "\"Whether you can still enroll in a course after it has started depends on several factors, such as the policies of the institution offering the course, the specific course structure, and how far along the course is. Here are some steps you can take:\\n\\n1. **Check the Course or University Policies:** Look up the specific enrollment policies of the institution or platform offering the course. Some institutions have a grace period during which you can still enroll in courses even after they have started.\\n\\n2. **Contact the Instructor:** If the course policies are not clear, reach out directly to the course instructor or the administrative office. Explain your situation and ask if it is still possible to enroll.\\n\\n3. **Review Course Requirements:** If the course has only just started, it's often more feasible to catch up on any missed material. However, if it’s already several weeks in, consider whether you will be able to catch up on the coursework without compromising your learning experience.\\n\\n4. **Late Enrollment Procedures:** If late enrollment is allowed, there may be specific procedures you need to follow, such as filling out a late enrollment form or getting approval from multiple parties.\\n\\n5. **Alternative Options:** If late enrollment is not possible, ask if you can enroll in a future offering of the course or look for similar courses that may be starting soon.\\n\\n6. **Online Platforms:** For online courses, platforms like Coursera, Udacity, or edX often have more flexible enrollment policies. Check if the course is self-paced, as these often allow for more flexibility in start times.\\n\\nMake sure to act quickly because the longer you wait, the harder it might be to catch up on the material.\""
      ]
     },
     "execution_count": 23,
     "metadata": {},
     "output_type": "execute_result"
    }
   ],
   "source": [
    "response.choices[0].message.content"
   ]
  },
  {
   "cell_type": "code",
   "execution_count": 64,
   "id": "f723c4c7-717f-4675-8010-4b59d78b2173",
   "metadata": {},
   "outputs": [],
   "source": [
    "def search(query):\n",
    "    boost ={'question':3.0,'section':0.5}\n",
    "\n",
    "    results = index.search(\n",
    "        query = query,\n",
    "        filter_dict={'course':'data-engineering-zoomcamp'},\n",
    "        boost_dict=boost, num_results=5\n",
    "        \n",
    "    )\n",
    "    return results"
   ]
  },
  {
   "cell_type": "code",
   "execution_count": 65,
   "id": "a257b294-862e-4cb6-a5da-7e07a011cc31",
   "metadata": {},
   "outputs": [],
   "source": [
    "def build_prompt(query,search_results):\n",
    "    prompt_template = \"\"\"\n",
    "    You're a course teaching assistant. Answer the QUESTION based on the CONTEXT form the FAQ database.\n",
    "    Use only the facts from the CONTEXT when answering the QUESTION.\n",
    "  \n",
    "    \n",
    "    QUESTION:{question}\n",
    "    \n",
    "    CONTEXT:\n",
    "    {context}\n",
    "    \"\"\".strip()\n",
    "    \n",
    "    context = \"\"\n",
    "    \n",
    "    for doc in search_results:\n",
    "        context = context + f\"section:{doc['section']}\\nquestion: {doc['question']}\\nanswer: {doc['text']}\\n\\n\"\n",
    "    prompt=prompt_template.format(question=query, context=context).strip()\n",
    "    return prompt"
   ]
  },
  {
   "cell_type": "code",
   "execution_count": 66,
   "id": "8db5fa40-64fd-4aad-98cc-3d5795c9f04b",
   "metadata": {},
   "outputs": [],
   "source": [
    "def llm(prompt):\n",
    "    response = client.chat.completions.create(model ='gpt-4o', messages =[{\"role\":\"user\", \"content\":prompt}])\n",
    "    return response.choices[0].message.content\n",
    "    "
   ]
  },
  {
   "cell_type": "code",
   "execution_count": 70,
   "id": "4b64f025-00ca-42bd-83ca-6323ef9908c5",
   "metadata": {},
   "outputs": [],
   "source": [
    "query = 'how do I run kafka?'\n",
    "\n",
    "def rag(query):\n",
    "    results = search(query)\n",
    "    prompt = build_prompt(query,results)\n",
    "    answer = llm(prompt)\n",
    "    return answer"
   ]
  },
  {
   "cell_type": "code",
   "execution_count": 71,
   "id": "95fa12d4-ad23-45cf-affd-51debc556032",
   "metadata": {},
   "outputs": [
    {
     "data": {
      "text/plain": [
       "'To run Kafka, it depends on whether you are working with Java or Python. Below are the steps for both:\\n\\n### Java Kafka:\\n1. Navigate to the project directory.\\n2. Run the following command in the terminal:\\n   ```\\n   java -cp build/libs/<jar_name>-1.0-SNAPSHOT.jar:out src/main/java/org/example/JsonProducer.java\\n   ```\\n\\n### Python Kafka:\\n1. Create a virtual environment and install the necessary packages:\\n   ```sh\\n   python -m venv env\\n   source env/bin/activate\\n   pip install -r ../requirements.txt\\n   ```\\n2. To activate the virtual environment each time you need it:\\n   ```sh\\n   source env/bin/activate\\n   ```\\n3. To deactivate the virtual environment:\\n   ```sh\\n   deactivate\\n   ```\\n   *Note: On Windows, use `env/Scripts/activate` instead of `env/bin/activate`.*\\n\\nAdditionally, ensure Docker images are up and running before you start running Python files.\\n\\nIf you encounter a permission issue with `./build.sh`, run:\\n```sh\\nchmod +x build.sh\\n```'"
      ]
     },
     "execution_count": 71,
     "metadata": {},
     "output_type": "execute_result"
    }
   ],
   "source": [
    "rag(query)"
   ]
  },
  {
   "cell_type": "code",
   "execution_count": null,
   "id": "761459f3-38d5-4d7d-883f-22507c8bf711",
   "metadata": {},
   "outputs": [],
   "source": []
  }
 ],
 "metadata": {
  "kernelspec": {
   "display_name": "Python 3 (ipykernel)",
   "language": "python",
   "name": "python3"
  },
  "language_info": {
   "codemirror_mode": {
    "name": "ipython",
    "version": 3
   },
   "file_extension": ".py",
   "mimetype": "text/x-python",
   "name": "python",
   "nbconvert_exporter": "python",
   "pygments_lexer": "ipython3",
   "version": "3.10.13"
  }
 },
 "nbformat": 4,
 "nbformat_minor": 5
}
